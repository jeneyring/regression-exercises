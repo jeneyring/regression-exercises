{
 "cells": [
  {
   "cell_type": "code",
   "execution_count": 1,
   "id": "de38d005",
   "metadata": {},
   "outputs": [],
   "source": [
    "import warnings\n",
    "warnings.filterwarnings(\"ignore\")\n",
    "\n",
    "import pandas as pd\n",
    "import numpy as np\n",
    "\n",
    "import matplotlib.pyplot as plt\n",
    "import seaborn as sns\n",
    "\n",
    "from sklearn.model_selection import train_test_split\n",
    "from scipy.stats import pearsonr, spearmanr\n",
    "\n",
    "import env\n",
    "import wrangle\n"
   ]
  },
  {
   "cell_type": "markdown",
   "id": "55b059df",
   "metadata": {},
   "source": [
    "## Acquire Summary and Prep Data:\n",
    "We will use the function we created and stored in our wrangle file to quickly acquire and prepare our data.\n",
    "\n",
    "<b>Acquire:</b>\n",
    "df = wrangle.'___wrangle function in wrangle.py'\n",
    "\n",
    "<b>Summary:</b>\n",
    "- 1) .head()\n",
    "\n",
    "#check for nulls and dtypes\n",
    "- 2) .info()\n",
    "\n",
    "#value_counts help too!\n",
    "- 3) .value_counts()"
   ]
  },
  {
   "cell_type": "markdown",
   "id": "3e2aa25a",
   "metadata": {},
   "source": [
    "_________________________________________________________________________________________________________________"
   ]
  },
  {
   "cell_type": "markdown",
   "id": "2ea4a761",
   "metadata": {},
   "source": [
    "## Main Stages of Exploration (EDA):\n",
    "- 1) Hypothesis: document your initial hypothesis\n",
    "    \n",
    "- 2) Visualize: use viz techniques to identify drivers\n",
    "    -scatterplot/ joinplot/ pairgrid/ heatmap\n",
    "    \n",
    "    -Plot out distributions of each feature\n",
    "    \n",
    "    -Plot out interaction of 2 or more variables\n",
    "    \n",
    "    -DOCUMENT!: Takeaways and what was found/not found.\n",
    "        -Identify features that correlate with each other.\n",
    "    \n",
    "-3) Test Your Hypothesis: analyze found drivers of a continous target variable using statistical tests:\n",
    "        - t tests/ correlation/ chi-squared"
   ]
  },
  {
   "cell_type": "markdown",
   "id": "791e9bcf",
   "metadata": {},
   "source": [
    "_________________________________________________________________________________________________________________"
   ]
  },
  {
   "cell_type": "markdown",
   "id": "2147eccf",
   "metadata": {},
   "source": [
    "## Types of Viz:\n",
    "\n",
    "### Univariate Distributions: looking at one variable at a time (ie displot, boxplot or countplot) CAN BE DONE PRIOR TO SPLIT!\n",
    "    - Continous variable distributions:\n",
    "        EXAMPLE:    df.[col].hist(grid=False, bins=10)\n",
    "                    sns.displot(x, data)\n",
    "                    sns.boxplot(data)\n",
    "                    \n",
    "    - Discrete variable distributions:\n",
    "           EXAMPLE:  sns.countplot(x='discrete_var', data)\n",
    "\n",
    "### Continous with Continous Data:\n",
    "    -Seaborn pairplot to create a scatter matrix and viz all continous variable relationships w/ individual\n",
    "    distributions.\n",
    "        EXAMPLE: sns.pairplot(data)\n",
    "        \n",
    "    -Seaborn relplot for simple scatter plot of two continous variables:\n",
    "        EXAMPLE: sns.relplot(x, y, data, kind=scatter)\n",
    "        \n",
    "    -Seaborn lmplot for a simple scatter plot of two continous variables with a regression line.\n",
    "        EXAMPLE: sns.lmplot(x, y, data, scatter=True, hue=None, col=None)\n",
    "        \n",
    "    -Seaborn jointplot for a simple scatter plot of two continuous variables with a regression line AND the addition\n",
    "    of a histogram for each variable.\n",
    "        EXAMPLE: sns.jointplot(x, y, data, kind=scatter)\n",
    "        \n",
    "    -Seaborn heatmap of Correlation Coefficients for all numeric columns in a dataset.\n",
    "        EXAMPLE: sns.heatmap(train.corr())"
   ]
  },
  {
   "cell_type": "markdown",
   "id": "19def63d",
   "metadata": {},
   "source": [
    "### Discrete with Continuous:\n",
    "\n",
    "    -Seaborn with swarmplot or stripplot to examine a discrete variable by a continous.\n",
    "        EXAMPLE: sns.swarmplot(x='discrete_var', y='continous_var', data=train)\n",
    "                 sns.stripplot(x='discrete_var', y='continous_var', data=train)\n",
    "                 \n",
    "    -Seaborn boxplot, violinplot or barplot to show the distribution of a continous variable by a discrete variable.\n",
    "        EXAMPLE: sns.boxplot(x='discrete_var', y='continuous_var', data=train)\n",
    "                 sns.violinplot(x='discrete_var', y='continuous_var', data=train)\n",
    "                 sns.barplot(x='discrete_var', y='continuous_var', data=train)\n",
    "                 \n",
    "### Discrete with Discrete Data:\n",
    "\n",
    "    -Seaborn heatmap with a pandas crosstab to examine discrete variables with discrete.\n",
    "        EXAMPLE: ctab = pd.crosstab(index, columns, variables)\n",
    "                 sns.heatmap(ctab, annot=True)\n"
   ]
  },
  {
   "cell_type": "markdown",
   "id": "6f678349",
   "metadata": {},
   "source": [
    "_______________________________________________________________________________________________________________"
   ]
  },
  {
   "cell_type": "code",
   "execution_count": null,
   "id": "2e8d72d6",
   "metadata": {},
   "outputs": [],
   "source": []
  }
 ],
 "metadata": {
  "kernelspec": {
   "display_name": "Python 3 (ipykernel)",
   "language": "python",
   "name": "python3"
  },
  "language_info": {
   "codemirror_mode": {
    "name": "ipython",
    "version": 3
   },
   "file_extension": ".py",
   "mimetype": "text/x-python",
   "name": "python",
   "nbconvert_exporter": "python",
   "pygments_lexer": "ipython3",
   "version": "3.9.7"
  }
 },
 "nbformat": 4,
 "nbformat_minor": 5
}
