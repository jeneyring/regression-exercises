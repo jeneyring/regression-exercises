{
 "cells": [
  {
   "cell_type": "markdown",
   "id": "1329d297",
   "metadata": {},
   "source": [
    "### Scaling Exercises\n",
    "Use the zillow dataset you acquired and prepped in previous lesson. Once you are finished, you may wish to repeat the exercises on another dataset for additional practice."
   ]
  },
  {
   "cell_type": "markdown",
   "id": "248d8103",
   "metadata": {},
   "source": [
    "#### 1) Apply the scalers we talked about in this lesson to your data and visualize the results for the unscaled and scaled distribution."
   ]
  },
  {
   "cell_type": "code",
   "execution_count": 11,
   "id": "4027d339",
   "metadata": {},
   "outputs": [],
   "source": [
    "import warnings\n",
    "warnings.filterwarnings(\"ignore\")\n",
    "\n",
    "import pandas as pd\n",
    "import matplotlib.pyplot as plt\n",
    "import seaborn as sns\n",
    "import numpy as np\n",
    "import env\n",
    "import wrangle\n",
    "\n",
    "# import splitting and imputing functions\n",
    "from sklearn.model_selection import train_test_split\n",
    "from sklearn.impute import SimpleImputer\n",
    "from scipy import stats\n",
    "import sklearn.preprocessing\n"
   ]
  },
  {
   "cell_type": "code",
   "execution_count": 2,
   "id": "73d9e8ad",
   "metadata": {},
   "outputs": [],
   "source": [
    "#read the SQL dataset into pandas Dataframe\n",
    "\n",
    "df = pd.read_sql(\"SELECT bedroomcnt, bathroomcnt, calculatedfinishedsquarefeet, taxvaluedollarcnt, yearbuilt,  taxamount , fips FROM properties_2017 JOIN propertylandusetype USING (propertylandusetypeid)WHERE propertylandusetype.propertylandusedesc = 'Single Family Residential';\", env.get_db_url('zillow'))\n",
    "\n",
    "df = wrangle.wrangle_zillow(df)"
   ]
  },
  {
   "cell_type": "code",
   "execution_count": 3,
   "id": "ca2b8df9",
   "metadata": {},
   "outputs": [
    {
     "data": {
      "text/html": [
       "<div>\n",
       "<style scoped>\n",
       "    .dataframe tbody tr th:only-of-type {\n",
       "        vertical-align: middle;\n",
       "    }\n",
       "\n",
       "    .dataframe tbody tr th {\n",
       "        vertical-align: top;\n",
       "    }\n",
       "\n",
       "    .dataframe thead th {\n",
       "        text-align: right;\n",
       "    }\n",
       "</style>\n",
       "<table border=\"1\" class=\"dataframe\">\n",
       "  <thead>\n",
       "    <tr style=\"text-align: right;\">\n",
       "      <th></th>\n",
       "      <th>Bedroom_Count</th>\n",
       "      <th>Bathroom_count</th>\n",
       "      <th>square_feet</th>\n",
       "      <th>Tax_Value</th>\n",
       "      <th>yearbuilt</th>\n",
       "      <th>Tax_amount</th>\n",
       "      <th>Fips_code</th>\n",
       "    </tr>\n",
       "  </thead>\n",
       "  <tbody>\n",
       "    <tr>\n",
       "      <th>4</th>\n",
       "      <td>4.0</td>\n",
       "      <td>2.0</td>\n",
       "      <td>3633</td>\n",
       "      <td>296425.0</td>\n",
       "      <td>2005</td>\n",
       "      <td>6941.39</td>\n",
       "      <td>6037</td>\n",
       "    </tr>\n",
       "    <tr>\n",
       "      <th>6</th>\n",
       "      <td>3.0</td>\n",
       "      <td>4.0</td>\n",
       "      <td>1620</td>\n",
       "      <td>847770.0</td>\n",
       "      <td>2011</td>\n",
       "      <td>10244.94</td>\n",
       "      <td>6037</td>\n",
       "    </tr>\n",
       "    <tr>\n",
       "      <th>7</th>\n",
       "      <td>3.0</td>\n",
       "      <td>2.0</td>\n",
       "      <td>2077</td>\n",
       "      <td>646760.0</td>\n",
       "      <td>1926</td>\n",
       "      <td>7924.68</td>\n",
       "      <td>6037</td>\n",
       "    </tr>\n",
       "    <tr>\n",
       "      <th>11</th>\n",
       "      <td>0.0</td>\n",
       "      <td>0.0</td>\n",
       "      <td>1200</td>\n",
       "      <td>5328.0</td>\n",
       "      <td>1972</td>\n",
       "      <td>91.60</td>\n",
       "      <td>6037</td>\n",
       "    </tr>\n",
       "    <tr>\n",
       "      <th>14</th>\n",
       "      <td>0.0</td>\n",
       "      <td>0.0</td>\n",
       "      <td>171</td>\n",
       "      <td>6920.0</td>\n",
       "      <td>1973</td>\n",
       "      <td>255.17</td>\n",
       "      <td>6037</td>\n",
       "    </tr>\n",
       "  </tbody>\n",
       "</table>\n",
       "</div>"
      ],
      "text/plain": [
       "    Bedroom_Count  Bathroom_count  square_feet  Tax_Value  yearbuilt  \\\n",
       "4             4.0             2.0         3633   296425.0       2005   \n",
       "6             3.0             4.0         1620   847770.0       2011   \n",
       "7             3.0             2.0         2077   646760.0       1926   \n",
       "11            0.0             0.0         1200     5328.0       1972   \n",
       "14            0.0             0.0          171     6920.0       1973   \n",
       "\n",
       "    Tax_amount  Fips_code  \n",
       "4      6941.39       6037  \n",
       "6     10244.94       6037  \n",
       "7      7924.68       6037  \n",
       "11       91.60       6037  \n",
       "14      255.17       6037  "
      ]
     },
     "execution_count": 3,
     "metadata": {},
     "output_type": "execute_result"
    }
   ],
   "source": [
    "df.head()"
   ]
  },
  {
   "cell_type": "code",
   "execution_count": 20,
   "id": "ea4f228e",
   "metadata": {},
   "outputs": [],
   "source": [
    "x = df[['Bedroom_Count','Bathroom_count','square_feet','Tax_Value']]\n",
    "\n",
    "#Have not yet created a split, so will do so here:\n",
    "x_train_and_validate, x_test = train_test_split(x, random_state=123)\n",
    "x_train, x_validate = train_test_split(x_train_and_validate)"
   ]
  },
  {
   "cell_type": "markdown",
   "id": "d1e4cb70",
   "metadata": {},
   "source": [
    "<i> MIN-MAX SCALING:"
   ]
  },
  {
   "cell_type": "code",
   "execution_count": 21,
   "id": "be2d6e70",
   "metadata": {},
   "outputs": [
    {
     "data": {
      "text/plain": [
       "Text(0.5, 1.0, 'Scaled')"
      ]
     },
     "execution_count": 21,
     "metadata": {},
     "output_type": "execute_result"
    },
    {
     "data": {
      "image/png": "[encoded data removed]",
      "text/plain": [
       "<Figure size 936x432 with 2 Axes>"
      ]
     },
     "metadata": {
      "needs_background": "light"
     },
     "output_type": "display_data"
    }
   ],
   "source": [
    "scaler = sklearn.preprocessing.MinMaxScaler()\n",
    "# Note that we only call .fit with the training data,\n",
    "# but we use .transform to apply the scaling to all the data splits.\n",
    "scaler.fit(x_train)\n",
    "\n",
    "x_train_scaled = scaler.transform(x_train)\n",
    "x_validate_scaled = scaler.transform(x_validate)\n",
    "x_test_scaled = scaler.transform(x_test)\n",
    "\n",
    "plt.figure(figsize=(13, 6))\n",
    "plt.subplot(121)\n",
    "plt.hist(x_train, bins=25, ec='black')\n",
    "plt.title('Original')\n",
    "plt.subplot(122)\n",
    "plt.hist(x_train_scaled, bins=25, ec='black')\n",
    "plt.title('Scaled')"
   ]
  },
  {
   "cell_type": "markdown",
   "id": "9f3f1c63",
   "metadata": {},
   "source": [
    "_________________________________________________________________________"
   ]
  },
  {
   "cell_type": "markdown",
   "id": "c0298adf",
   "metadata": {},
   "source": [
    "<i> STANDARD SCALER:"
   ]
  },
  {
   "cell_type": "code",
   "execution_count": 29,
   "id": "e8178d5d",
   "metadata": {},
   "outputs": [
    {
     "data": {
      "text/plain": [
       "Text(0.5, 1.0, 'Scaled')"
      ]
     },
     "execution_count": 29,
     "metadata": {},
     "output_type": "execute_result"
    },
    {
     "data": {
      "image/png": "[encoded data removed]",
      "text/plain": [
       "<Figure size 936x432 with 2 Axes>"
      ]
     },
     "metadata": {
      "needs_background": "light"
     },
     "output_type": "display_data"
    }
   ],
   "source": [
    "#dividing each data point by the standard deviation:\n",
    "s_scaler = sklearn.preprocessing.StandardScaler()\n",
    "# Note that we only call .fit with the training data,\n",
    "# but we use .transform to apply the scaling to all the data splits.\n",
    "s_scaler.fit(x_train)\n",
    "\n",
    "x_train_scaled = s_scaler.transform(x_train)\n",
    "x_validate_scaled = s_scaler.transform(x_validate)\n",
    "x_test_scaled = s_scaler.transform(x_test)\n",
    "\n",
    "plt.figure(figsize=(13, 6))\n",
    "plt.subplot(121)\n",
    "plt.hist(x_train, bins=25, ec='black')\n",
    "plt.title('Original')\n",
    "plt.subplot(122)\n",
    "plt.hist(x_train_scaled, bins=25, ec='black')\n",
    "plt.title('Scaled')\n"
   ]
  },
  {
   "cell_type": "markdown",
   "id": "dc34c5c3",
   "metadata": {},
   "source": [
    "<i> ROBUSTSCALER:"
   ]
  },
  {
   "cell_type": "code",
   "execution_count": 28,
   "id": "7255e1aa",
   "metadata": {},
   "outputs": [
    {
     "data": {
      "text/plain": [
       "Text(0.5, 1.0, 'Scaled')"
      ]
     },
     "execution_count": 28,
     "metadata": {},
     "output_type": "execute_result"
    },
    {
     "data": {
      "image/png": "[encoded data removed]",
      "text/plain": [
       "<Figure size 936x432 with 2 Axes>"
      ]
     },
     "metadata": {
      "needs_background": "light"
     },
     "output_type": "display_data"
    }
   ],
   "source": [
    "rob_scaler = sklearn.preprocessing.RobustScaler()\n",
    "# Note that we only call .fit with the training data,\n",
    "# but we use .transform to apply the scaling to all the data splits.\n",
    "rob_scaler.fit(x_train)\n",
    "\n",
    "x_train_scaled = rob_scaler.transform(x_train)\n",
    "x_validate_scaled = rob_scaler.transform(x_validate)\n",
    "x_test_scaled = rob_scaler.transform(x_test)\n",
    "\n",
    "plt.figure(figsize=(13, 6))\n",
    "plt.subplot(121)\n",
    "plt.hist(x_train, bins=25, ec='black')\n",
    "plt.title('Original')\n",
    "plt.subplot(122)\n",
    "plt.hist(x_train_scaled, bins=25, ec='black')\n",
    "plt.title('Scaled')"
   ]
  },
  {
   "cell_type": "code",
   "execution_count": 25,
   "id": "c66db7f4",
   "metadata": {},
   "outputs": [
    {
     "data": {
      "text/plain": [
       "<seaborn.axisgrid.FacetGrid at 0x7fadeab53550>"
      ]
     },
     "execution_count": 25,
     "metadata": {},
     "output_type": "execute_result"
    },
    {
     "data": {
      "image/png": "[encoded data removed]",
      "text/plain": [
       "<Figure size 447.375x360 with 1 Axes>"
      ]
     },
     "metadata": {
      "needs_background": "light"
     },
     "output_type": "display_data"
    }
   ],
   "source": [
    "#what's going on with the data?\n",
    "sns.relplot(data=x_train, y='Tax_Value', x='square_feet', hue='Bedroom_Count')"
   ]
  },
  {
   "cell_type": "code",
   "execution_count": 33,
   "id": "5e2403c8",
   "metadata": {},
   "outputs": [
    {
     "data": {
      "text/plain": [
       "<seaborn.axisgrid.FacetGrid at 0x7fade6402eb0>"
      ]
     },
     "execution_count": 33,
     "metadata": {},
     "output_type": "execute_result"
    },
    {
     "data": {
      "image/png": "[encoded data removed]",
      "text/plain": [
       "<Figure size 449.875x360 with 1 Axes>"
      ]
     },
     "metadata": {
      "needs_background": "light"
     },
     "output_type": "display_data"
    }
   ],
   "source": [
    "#what's going on with the data?\n",
    "sns.relplot(data=x_train, y='Tax_Value', x='square_feet', hue='Bathroom_count')"
   ]
  },
  {
   "cell_type": "markdown",
   "id": "685b36ee",
   "metadata": {},
   "source": [
    "#### 2) Apply the .inverse_transform method to your scaled data. Is the resulting dataset the exact same as the original data?"
   ]
  },
  {
   "cell_type": "code",
   "execution_count": 35,
   "id": "97a5824e",
   "metadata": {},
   "outputs": [
    {
     "data": {
      "text/plain": [
       "array([[7.02858193e+00, 4.22303905e+00, 4.72526258e+06, 2.01062894e+11],\n",
       "       [6.09667701e+00, 6.20531342e+00, 2.10808596e+06, 5.75035288e+11],\n",
       "       [6.09667701e+00, 4.22303905e+00, 2.70224876e+06, 4.38691999e+11],\n",
       "       ...,\n",
       "       [7.02858193e+00, 6.70088202e+00, 4.06739305e+06, 3.63605855e+11],\n",
       "       [6.09667701e+00, 4.71860764e+00, 2.56833461e+06, 2.87835315e+11],\n",
       "       [7.02858193e+00, 6.20531342e+00, 2.74515330e+06, 3.75779823e+11]])"
      ]
     },
     "execution_count": 35,
     "metadata": {},
     "output_type": "execute_result"
    }
   ],
   "source": [
    "s_scaler.inverse_transform(x, copy=None)"
   ]
  },
  {
   "cell_type": "code",
   "execution_count": null,
   "id": "e16714bc",
   "metadata": {},
   "outputs": [],
   "source": []
  },
  {
   "cell_type": "markdown",
   "id": "09ce81bc",
   "metadata": {},
   "source": [
    "#### 3) Read the documentation for sklearn's QuantileTransformer. Use normal for the output_distribution and apply this scaler to your data. Visualize the result of your data scaling."
   ]
  },
  {
   "cell_type": "code",
   "execution_count": null,
   "id": "5fc4ce65",
   "metadata": {},
   "outputs": [],
   "source": []
  },
  {
   "cell_type": "markdown",
   "id": "a49e69aa",
   "metadata": {},
   "source": [
    "#### 4) Use the QuantileTransformer, but omit the output_distribution argument. Visualize your results. What do you notice?"
   ]
  },
  {
   "cell_type": "code",
   "execution_count": null,
   "id": "d74b4451",
   "metadata": {},
   "outputs": [],
   "source": []
  },
  {
   "cell_type": "markdown",
   "id": "2e7abbbf",
   "metadata": {},
   "source": [
    "#### 5) Based on the work you've done, choose a scaling method for your dataset. \n",
    "\n",
    "Write a function within your prepare.py that accepts as input the train, validate, and test data splits, and returns the scaled versions of each. \n",
    "\n",
    "Be sure to only learn the parameters for scaling from your training data!"
   ]
  },
  {
   "cell_type": "code",
   "execution_count": null,
   "id": "3b0d444a",
   "metadata": {},
   "outputs": [],
   "source": []
  }
 ],
 "metadata": {
  "kernelspec": {
   "display_name": "Python 3 (ipykernel)",
   "language": "python",
   "name": "python3"
  },
  "language_info": {
   "codemirror_mode": {
    "name": "ipython",
    "version": 3
   },
   "file_extension": ".py",
   "mimetype": "text/x-python",
   "name": "python",
   "nbconvert_exporter": "python",
   "pygments_lexer": "ipython3",
   "version": "3.9.7"
  }
 },
 "nbformat": 4,
 "nbformat_minor": 5
}
